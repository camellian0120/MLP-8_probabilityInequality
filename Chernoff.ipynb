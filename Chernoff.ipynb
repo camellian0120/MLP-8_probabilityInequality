{
 "cells": [
  {
   "cell_type": "markdown",
   "id": "186d4d6a-bf36-4a1c-a6e4-c7cfdf94c7f0",
   "metadata": {},
   "source": [
    "## Chernoff's inequality program"
   ]
  },
  {
   "cell_type": "code",
   "execution_count": 132,
   "id": "e5936304-ac81-40e6-9a6c-7ad71eed42bb",
   "metadata": {},
   "outputs": [],
   "source": [
    "# imports\n",
    "import numpy as np\n",
    "from scipy.stats import norm #normは正規分布\n",
    "import matplotlib.pyplot as plt\n",
    "\n",
    "## variables\n",
    "# X scale\n",
    "X = np.arange(0, 100, 0.1)\n",
    "# Y scale\n",
    "# pdfは, rvsが確率密度関数,\n",
    "# E[x]:50, V[x]:10^2\n",
    "Ex = 50\n",
    "Y_pdf = norm.pdf(X, Ex, 10)\n",
    "Y_rvs = norm.rvs(loc=Ex, scale=10, size=len(X))\n",
    "# 任意の a > 0\n",
    "a = 60\n",
    "A = np.full(shape=len(X), fill_value=a)\n"
   ]
  },
  {
   "cell_type": "markdown",
   "id": "29db835c-e0d4-42de-88f1-31ec8c59bc0a",
   "metadata": {},
   "source": [
    "#### Markov's inequality program"
   ]
  },
  {
   "cell_type": "code",
   "execution_count": 133,
   "id": "1aa0deaf-2aed-4dc1-a674-8523c42c54b5",
   "metadata": {},
   "outputs": [],
   "source": [
    "# function return Markov's inqeuality upper bound\n",
    "def Markov():\n",
    "    return Ex/a\n"
   ]
  },
  {
   "cell_type": "markdown",
   "id": "e8450af9-9c76-4297-a1be-9f0b269b861a",
   "metadata": {},
   "source": [
    "#### What is X & Y ?"
   ]
  },
  {
   "cell_type": "code",
   "execution_count": 134,
   "id": "1072a98d-fcf7-4ed6-b55a-12200fc9865f",
   "metadata": {},
   "outputs": [
    {
     "data": {
      "text/plain": [
       "array([ 0.,  1.,  2.,  3.,  4.,  5.,  6.,  7.,  8.,  9., 10., 11., 12.,\n",
       "       13., 14., 15., 16., 17., 18., 19., 20., 21., 22., 23., 24., 25.,\n",
       "       26., 27., 28., 29., 30., 31., 32., 33., 34., 35., 36., 37., 38.,\n",
       "       39., 40., 41., 42., 43., 44., 45., 46., 47., 48., 49., 50., 51.,\n",
       "       52., 53., 54., 55., 56., 57., 58., 59., 60., 61., 62., 63., 64.,\n",
       "       65., 66., 67., 68., 69., 70., 71., 72., 73., 74., 75., 76., 77.,\n",
       "       78., 79., 80., 81., 82., 83., 84., 85., 86., 87., 88., 89., 90.,\n",
       "       91., 92., 93., 94., 95., 96., 97., 98., 99.])"
      ]
     },
     "execution_count": 134,
     "metadata": {},
     "output_type": "execute_result"
    }
   ],
   "source": [
    "X[::10]"
   ]
  },
  {
   "cell_type": "code",
   "execution_count": 135,
   "id": "67d7bd64-eddf-4b56-9dc9-80483e45f002",
   "metadata": {},
   "outputs": [
    {
     "data": {
      "text/plain": [
       "array([1.48671951e-07, 1.33830226e-05, 4.43184841e-04, 5.39909665e-03,\n",
       "       2.41970725e-02, 3.98942280e-02, 2.41970725e-02, 5.39909665e-03,\n",
       "       4.43184841e-04, 1.33830226e-05])"
      ]
     },
     "execution_count": 135,
     "metadata": {},
     "output_type": "execute_result"
    }
   ],
   "source": [
    "Y_pdf[::100]"
   ]
  },
  {
   "cell_type": "code",
   "execution_count": 136,
   "id": "2a50e674",
   "metadata": {},
   "outputs": [
    {
     "data": {
      "text/plain": [
       "array([55.18006868, 54.68667655, 46.63727868, 41.81015507, 58.86461912,\n",
       "       47.48286334, 59.36792524, 40.96117096, 49.48459401, 54.95436782])"
      ]
     },
     "execution_count": 136,
     "metadata": {},
     "output_type": "execute_result"
    }
   ],
   "source": [
    "Y_rvs[::100]"
   ]
  },
  {
   "cell_type": "markdown",
   "id": "6ea28d76-781b-4542-8a5b-b092aa6d9eb4",
   "metadata": {},
   "source": [
    "#### Calc Chernoff's ineuality"
   ]
  },
  {
   "cell_type": "code",
   "execution_count": 137,
   "id": "c33802a8-700a-4930-bb0e-308e359a4892",
   "metadata": {
    "scrolled": true
   },
   "outputs": [
    {
     "name": "stdout",
     "output_type": "stream",
     "text": [
      "チェルノフの不等式の最小の値は、0.6041694296536146 (t = '0.098')\n"
     ]
    }
   ],
   "source": [
    "# ref : https://note.nkmk.me/python-for-usage/\n",
    "# function return Chernoff's inqeuality upper bound\n",
    "def Chernoff(t):\n",
    "    # 期待値は総和で計算\n",
    "    Eexp = 0\n",
    "    for loop in Y_rvs:\n",
    "        Eexp += (np.exp(loop*t) / len(Y_rvs)) / np.exp(a*t)\n",
    "    return Eexp\n",
    "    # print(\"t = \"+str(t)+\"'s E[x] = \"+str(Ex))\n",
    "\n",
    "# test\n",
    "loop_list = np.arange(0.001, 2, 0.001)\n",
    "min_apper_bound = [2147483647, -1]\n",
    "for loop in loop_list:\n",
    "    answer = Chernoff(loop)\n",
    "    if answer < float(min_apper_bound[0]):\n",
    "        min_apper_bound[0] = answer\n",
    "        min_apper_bound[1] = loop\n",
    "print(\"チェルノフの不等式の最小の値は、\"+str(min_apper_bound[0])+\" (t = '\"+str(min_apper_bound[1])+\"')\")"
   ]
  },
  {
   "cell_type": "code",
   "execution_count": 138,
   "id": "c626b748-c9f1-413b-bab8-04523a5dde3c",
   "metadata": {},
   "outputs": [
    {
     "name": "stdout",
     "output_type": "stream",
     "text": [
      "Pr(x>=a) = 0.1560000000000001\n",
      "  <= E[exp(tx)]/exp(ta) = 0.6041694296536146\n",
      "    <= E[x]/a = 0.8333333333333334\n"
     ]
    }
   ],
   "source": [
    "# 結果の比較\n",
    "Prx = 0\n",
    "for loop in Y_rvs:\n",
    "    if loop > a:\n",
    "        Prx += 1/len(Y_rvs)\n",
    "\n",
    "print(\"Pr(x>=a) = \"+str(Prx))\n",
    "print(\"  <= E[exp(tx)]/exp(ta) = \"+str(min_apper_bound[0]))\n",
    "print(\"    <= E[x]/a = \"+str(Markov()))\n"
   ]
  },
  {
   "cell_type": "markdown",
   "id": "0ea5d8c4-9768-469e-992d-a2e784aa30c1",
   "metadata": {},
   "source": [
    "#### plot graph"
   ]
  },
  {
   "cell_type": "code",
   "execution_count": 139,
   "id": "821e2772",
   "metadata": {},
   "outputs": [
    {
     "name": "stdout",
     "output_type": "stream",
     "text": [
      "0     1     2     3     4     5     6     7     8     9     \n",
      "[0.    0.002 0.019 0.124 0.372 0.327 0.134 0.019 0.003 0.   ]\n"
     ]
    }
   ],
   "source": [
    "# Y_rvs の 10刻みの棒グラフ用の変数\n",
    "size = np.arange(0,10,1)\n",
    "Pr10 = np.full(len(size), 0.)\n",
    "\n",
    "for loop in size:\n",
    "    for Pr in Y_rvs:\n",
    "        if 10*loop <= Pr < 10*(loop+1):\n",
    "            Pr10[loop] += 1/len(Y_rvs)\n",
    "print(\"0     1     2     3     4     5     6     7     8     9     \")\n",
    "print(Pr10)\n"
   ]
  },
  {
   "cell_type": "code",
   "execution_count": 140,
   "id": "c0174492-d831-425b-aef4-1747eb75dc41",
   "metadata": {},
   "outputs": [
    {
     "data": {
      "image/png": "[encoded data removed]",
      "text/plain": [
       "<Figure size 640x480 with 1 Axes>"
      ]
     },
     "metadata": {},
     "output_type": "display_data"
    }
   ],
   "source": [
    "## #グラフの表示\n",
    "# 基本の設定\n",
    "plt.xlim(0,100)\n",
    "plt.ylim(0,0.9)\n",
    "\n",
    "# aの直線\n",
    "plt.axvline(60, color='black', label=\"a\")\n",
    "\n",
    "# 確率分布 (10刻み)\n",
    "plt.bar(60+20, Pr10[6]+Pr10[7]+Pr10[8]+Pr10[9], 40, color='navy', alpha=0.3)\n",
    "plt.bar(size*10+5, Pr10, 10, color='skyblue', label=\"Pr(x)\")\n",
    "\n",
    "# マルコフ、チェルノフ\n",
    "plt.axhline(Markov(), color='orange', label=\"Markov\")\n",
    "plt.axhline(min_apper_bound[0], color='lime', label=\"Chernoff\")\n",
    "\n",
    "# 表示\n",
    "plt.legend()\n",
    "plt.show()"
   ]
  },
  {
   "cell_type": "markdown",
   "id": "3d36e596",
   "metadata": {},
   "source": []
  }
 ],
 "metadata": {
  "kernelspec": {
   "display_name": "base",
   "language": "python",
   "name": "python3"
  },
  "language_info": {
   "codemirror_mode": {
    "name": "ipython",
    "version": 3
   },
   "file_extension": ".py",
   "mimetype": "text/x-python",
   "name": "python",
   "nbconvert_exporter": "python",
   "pygments_lexer": "ipython3",
   "version": "3.11.5"
  }
 },
 "nbformat": 4,
 "nbformat_minor": 5
}
